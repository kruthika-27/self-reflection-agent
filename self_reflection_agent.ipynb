{
 "cells": [
  {
   "cell_type": "code",
   "execution_count": 63,
   "id": "3a72a908",
   "metadata": {},
   "outputs": [],
   "source": [
    "\n",
    "from langchain_core.messages import BaseMessage, HumanMessage, AIMessage\n",
    "from langchain_google_genai import ChatGoogleGenerativeAI\n",
    "from typing import List, TypedDict, Annotated, Literal\n",
    "from langgraph.graph import StateGraph, START, END\n",
    "from langgraph.graph.message import add_messages\n",
    "from langchain_core.tools import tool\n",
    "from langgraph.prebuilt import ToolNode, tools_condition\n",
    "import json\n",
    "from langgraph.types import interrupt, Command"
   ]
  },
  {
   "cell_type": "code",
   "execution_count": 64,
   "id": "b664b6c8",
   "metadata": {},
   "outputs": [
    {
     "data": {
      "text/plain": [
       "True"
      ]
     },
     "execution_count": 64,
     "metadata": {},
     "output_type": "execute_result"
    }
   ],
   "source": [
    "from dotenv import load_dotenv\n",
    "load_dotenv()"
   ]
  },
  {
   "cell_type": "code",
   "execution_count": 65,
   "id": "ec2dcc22",
   "metadata": {},
   "outputs": [],
   "source": [
    "class State(TypedDict):\n",
    "    # Messages have the type \"list\". The `add_messages` function\n",
    "    # in the annotation defines how this state key should be updated\n",
    "    # (in this case, it appends messages to the list, rather than overwriting them)\n",
    "    messages: Annotated[List[BaseMessage], add_messages]\n",
    "    current_score: float"
   ]
  },
  {
   "cell_type": "code",
   "execution_count": 66,
   "id": "f1601926",
   "metadata": {},
   "outputs": [],
   "source": [
    "# Initialize the LLM.\n",
    "# Ensure you have authenticated your gcloud CLI using 'gcloud auth application-default login'\n",
    "# and set a quota project using 'gcloud auth application-default set-quota-project YOUR_PROJECT_ID'.\n",
    "# Using 'gemini-pro' as a stable and widely available model.\n",
    "llm = ChatGoogleGenerativeAI(model=\"gemini-2.5-flash\", temperature=0.0) # Lower temperature for more consistent output"
   ]
  },
  {
   "cell_type": "code",
   "execution_count": 67,
   "id": "e1e967fc",
   "metadata": {},
   "outputs": [],
   "source": [
    "# Define the chatbot node function.\n",
    "# This function will interact with the LLM to get grammar corrections and scores.\n",
    "def chatbot(state: State) -> State | Literal[END]:\n",
    "    \"\"\"\n",
    "    Processes the user's message, sends it to the LLM for grammar correction and scoring,\n",
    "    and updates the state with the corrected output and score.\n",
    "    \"\"\"\n",
    "    # Get the content of the last human message from the state.\n",
    "    # We assume the last message added to the 'messages' list is the user's input.\n",
    "    user_message = state[\"messages\"][-1].content\n",
    "\n",
    "    # Construct a detailed prompt for the LLM.\n",
    "    # The prompt instructs the LLM to return a JSON object with specific keys:\n",
    "    # 'corrected_sentence' and 'score'. This makes parsing the response reliable.\n",
    "    prompt = f\"\"\"You are a highly accurate grammar correction and scoring assistant.\n",
    "    Your task is to:\n",
    "    1. Grammatically correct the provided sentence, ensuring it is natural and fluent.\n",
    "    2. Assign a grammatical score to the *corrected* sentence. The score must be a float between 0.0 and 1.0, where 1.0 indicates perfect grammatical correctness and 0.0 indicates completely incorrect grammar. The score should reflect the grammatical quality of the *output* sentence.\n",
    "    3. Make only one correction at once.\n",
    "\n",
    "    Respond ONLY with a JSON object. Do not include any other text or explanation.\n",
    "    The JSON object must have the following two keys:\n",
    "    - `corrected_sentence`: The grammatically corrected version of the input sentence.\n",
    "    - `score`: A float (e.g., 0.95, 1.0) representing the grammatical score of the corrected sentence.\n",
    "\n",
    "    Example Input: 'He go to school.'\n",
    "    Example Output:\n",
    "    {{\n",
    "    \"corrected_sentence\": \"He goes to school.\",\n",
    "    \"score\": 0.98\n",
    "    }}\n",
    "\n",
    "    Example Input: 'The cat sits on the mat.'\n",
    "    Example Output:\n",
    "    {{\n",
    "    \"corrected_sentence\": \"The cat sits on the mat.\",\n",
    "    \"score\": 1.0\n",
    "    }}\n",
    "\n",
    "    Input sentence to correct and score: '{user_message}'\n",
    "    Don't include the json formatting that is \n",
    "    ```json\n",
    "    ```\"\"\"\n",
    "\n",
    "    # Invoke the LLM with the crafted prompt.\n",
    "    try:\n",
    "        raw_response = llm.invoke(prompt).content\n",
    "        # Attempt to parse the LLM's response as a JSON object.\n",
    "        response_data = json.loads(raw_response)\n",
    "        \n",
    "        # Extract the corrected sentence and score from the parsed JSON.\n",
    "        # Provide fallback values in case keys are missing (though the prompt aims to prevent this).\n",
    "        corrected_sentence = response_data.get(\"corrected_sentence\", user_message)\n",
    "        score = float(response_data.get(\"score\", 0.0)) # Ensure score is a float\n",
    "    except json.JSONDecodeError:\n",
    "        # Handle cases where the LLM does not return valid JSON.\n",
    "        print(f\"Warning: Could not parse LLM response as JSON. Raw response: {raw_response}\")\n",
    "        corrected_sentence = f\"Error: Could not process grammar. Original input: '{user_message}'. Please try rephrasing.\"\n",
    "        score = 0.0 # Set score to 0 to ensure re-processing if JSON parsing fails\n",
    "    except Exception as e:\n",
    "        # Handle any other unexpected errors during LLM invocation or data extraction.\n",
    "        print(f\"An unexpected error occurred during LLM invocation: {e}\")\n",
    "        corrected_sentence = f\"Error: An unexpected error occurred. Original input: '{user_message}'. Please try again.\"\n",
    "        score = 0.0\n",
    "\n",
    "    # Format the output string as requested by the user.\n",
    "    formatted_output = f\"Output: {corrected_sentence}\\nScore: {score:.2f}\" # Format score to 2 decimal places\n",
    "\n",
    "    # Return the updated state.\n",
    "    # 'messages' is updated with the AIMessage containing the formatted output.\n",
    "    # 'current_score' is updated with the score extracted from the LLM's response.\n",
    "    return {\n",
    "        \"messages\": [AIMessage(content=corrected_sentence)],\n",
    "        \"current_score\": score\n",
    "    }\n"
   ]
  },
  {
   "cell_type": "code",
   "execution_count": 68,
   "id": "8b58ed7d",
   "metadata": {},
   "outputs": [],
   "source": [
    "# Define the conditional function that determines the next step in the graph.\n",
    "def should_continue(state: State) -> Literal[\"chatbot\"] | Literal[END]:\n",
    "    \"\"\"\n",
    "    Checks the current_score in the state.\n",
    "    If the score is 0.95 or higher, the process ends.\n",
    "    Otherwise, it loops back to the 'chatbot' node for another attempt.\n",
    "    \"\"\"\n",
    "    score = state.get(\"current_score\", 0.0) # Get the current score, defaulting to 0.0 if not found\n",
    "    \n",
    "    # Define the threshold for stopping the loop.\n",
    "    score_threshold = 0.95\n",
    "    \n",
    "\n",
    "    if score >= score_threshold:\n",
    "        print(f\"Grammatical score {score:.2f} >= {score_threshold}. Ending process.\")\n",
    "        return END # End the graph execution\n",
    "    else:\n",
    "        print(f\"Grammatical score {score:.2f} < {score_threshold}. Re-processing...\")\n",
    "        return \"chatbot\" # Loop back to the chatbot node"
   ]
  },
  {
   "cell_type": "code",
   "execution_count": 69,
   "id": "c8e4058b",
   "metadata": {},
   "outputs": [
    {
     "data": {
      "text/plain": [
       "<langgraph.graph.state.StateGraph at 0x752c1d8af810>"
      ]
     },
     "execution_count": 69,
     "metadata": {},
     "output_type": "execute_result"
    }
   ],
   "source": [
    "# Build the LangGraph.\n",
    "builder = StateGraph(State)\n",
    "\n",
    "# Add the 'chatbot' node to the graph.\n",
    "builder.add_node(\"chatbot\", chatbot)\n",
    "\n",
    "# Set the entry point of the graph to the 'chatbot' node.\n",
    "builder.add_edge(START, \"chatbot\")\n",
    "\n",
    "# Add a conditional edge from the 'chatbot' node.\n",
    "# The 'should_continue' function will be called after 'chatbot' executes.\n",
    "# Its return value ('chatbot' or END) will dictate the next transition.\n",
    "builder.add_conditional_edges(\n",
    "    \"chatbot\",\n",
    "    should_continue,\n",
    "    {\n",
    "        \"chatbot\": \"chatbot\", # If should_continue returns \"chatbot\", transition to \"chatbot\" node\n",
    "        END: END              # If should_continue returns END, terminate the graph\n",
    "    }\n",
    ")"
   ]
  },
  {
   "cell_type": "code",
   "execution_count": 70,
   "id": "8c3b0e3a",
   "metadata": {},
   "outputs": [],
   "source": [
    "# Compile the graph into an executable application.\n",
    "app = builder.compile()\n",
    "\n",
    "# --- Example Usage ---\n",
    "# You can test the chatbot by streaming inputs through the compiled app."
   ]
  },
  {
   "cell_type": "code",
   "execution_count": 71,
   "id": "8208e077",
   "metadata": {},
   "outputs": [
    {
     "data": {
      "image/png": "[encoded data removed]",
      "text/plain": [
       "<IPython.core.display.Image object>"
      ]
     },
     "metadata": {},
     "output_type": "display_data"
    }
   ],
   "source": [
    "from IPython.display import Image, display\n",
    "\n",
    "display(Image(app.get_graph().draw_mermaid_png()))"
   ]
  },
  {
   "cell_type": "code",
   "execution_count": 72,
   "id": "55455df7",
   "metadata": {},
   "outputs": [
    {
     "name": "stdout",
     "output_type": "stream",
     "text": [
      "--- Testing with 'He go to school.' ---\n",
      "Grammatical score 1.00 >= 0.95. Ending process.\n",
      "{'chatbot': {'messages': [AIMessage(content='He goes to school.', additional_kwargs={}, response_metadata={}, id='3571589f-a9a3-4d1c-85bd-10f6d3725f0a')], 'current_score': 1.0}}\n"
     ]
    }
   ],
   "source": [
    "# --- Example Usage ---\n",
    "# You can test the chatbot by streaming inputs through the compiled app.\n",
    "\n",
    "# Example 1: Sentence that might need correction and iterative improvement\n",
    "# Example 1: Sentence that might need correction and iterative improvement\n",
    "print(\"--- Testing with 'He go to school.' ---\")\n",
    "inputs1 = {\"messages\": [HumanMessage(content=\"He go to school.\")]}\n",
    "for s in app.stream(inputs1):\n",
    "    print(s)\n",
    "\n",
    "\n"
   ]
  },
  {
   "cell_type": "code",
   "execution_count": null,
   "id": "e80501c5",
   "metadata": {},
   "outputs": [],
   "source": []
  }
 ],
 "metadata": {
  "kernelspec": {
   "display_name": "test",
   "language": "python",
   "name": "python3"
  },
  "language_info": {
   "codemirror_mode": {
    "name": "ipython",
    "version": 3
   },
   "file_extension": ".py",
   "mimetype": "text/x-python",
   "name": "python",
   "nbconvert_exporter": "python",
   "pygments_lexer": "ipython3",
   "version": "3.11.11"
  }
 },
 "nbformat": 4,
 "nbformat_minor": 5
}
