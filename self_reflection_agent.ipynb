{
 "cells": [
  {
   "cell_type": "code",
   "execution_count": 45,
   "id": "3a72a908",
   "metadata": {},
   "outputs": [],
   "source": [
    "from langchain_core.messages import BaseMessage, HumanMessage, AIMessage\n",
    "from langchain_google_genai import ChatGoogleGenerativeAI\n",
    "from typing import List, TypedDict, Annotated, Literal\n",
    "from langgraph.graph import StateGraph, START, END\n",
    "from langgraph.graph.message import add_messages\n",
    "from langchain_core.tools import tool\n",
    "from langgraph.prebuilt import ToolNode, tools_condition\n",
    "import json\n",
    "from langgraph.types import interrupt, Command"
   ]
  },
  {
   "cell_type": "code",
   "execution_count": 46,
   "id": "b664b6c8",
   "metadata": {},
   "outputs": [
    {
     "data": {
      "text/plain": [
       "True"
      ]
     },
     "execution_count": 46,
     "metadata": {},
     "output_type": "execute_result"
    }
   ],
   "source": [
    "from dotenv import load_dotenv\n",
    "load_dotenv()"
   ]
  },
  {
   "cell_type": "code",
   "execution_count": 47,
   "id": "ec2dcc22",
   "metadata": {},
   "outputs": [],
   "source": [
    "class State(TypedDict):\n",
    "    # Messages have the type \"list\". The `add_messages` function\n",
    "    # in the annotation defines how this state key should be updated\n",
    "    # (in this case, it appends messages to the list, rather than overwriting them)\n",
    "    messages: Annotated[List[BaseMessage], add_messages]\n",
    "    current_score: float"
   ]
  },
  {
   "cell_type": "code",
   "execution_count": 48,
   "id": "f1601926",
   "metadata": {},
   "outputs": [],
   "source": [
    "# Initialize the LLM.\n",
    "# Ensure you have authenticated your gcloud CLI using 'gcloud auth application-default login'\n",
    "# and set a quota project using 'gcloud auth application-default set-quota-project YOUR_PROJECT_ID'.\n",
    "# Using 'gemini-pro' as a stable and widely available model.\n",
    "llm = ChatGoogleGenerativeAI(model=\"gemini-2.5-flash\", temperature=0.0) # Lower temperature for more consistent output"
   ]
  },
  {
   "cell_type": "code",
   "execution_count": 37,
   "id": "e1e967fc",
   "metadata": {},
   "outputs": [],
   "source": [
    "# Define the chatbot node function.\n",
    "# This function will interact with the LLM to get grammar corrections and scores.\n",
    "def chatbot(state: State) -> State | Literal[END]:\n",
    "    \"\"\"\n",
    "    Processes the user's message, sends it to the LLM for grammar correction and scoring,\n",
    "    and updates the state with the corrected output and score.\n",
    "    \"\"\"\n",
    "    # Get the content of the last human message from the state.\n",
    "    # We assume the last message added to the 'messages' list is the user's input.\n",
    "    user_message = state[\"messages\"][-1].content\n",
    "\n",
    "    # Construct a detailed prompt for the LLM.\n",
    "    # The prompt instructs the LLM to return a JSON object with specific keys:\n",
    "    # 'corrected_sentence' and 'score'. This makes parsing the response reliable.\n",
    "    prompt = f\"\"\"You are a highly accurate grammar correction and scoring assistant.\n",
    "    Your task is to:\n",
    "    1. Grammatically correct the provided sentence, ensuring it is natural and fluent.\n",
    "    2. Assign a grammatical score to the *corrected* sentence. The score must be a float between 0.0 and 1.0, where 1.0 indicates perfect grammatical correctness and 0.0 indicates completely incorrect grammar. The score should reflect the grammatical quality of the *output* sentence.\n",
    "    3. Make only one correction at once in one iteartion.\n",
    "\n",
    "    Respond ONLY with a JSON object. Do not include any other text or explanation.\n",
    "    The JSON object must have the following two keys:\n",
    "    - `corrected_sentence`: The grammatically corrected version of the input sentence.\n",
    "    - `score`: A float (e.g., 0.95, 1.0) representing the grammatical score of the corrected sentence.\n",
    "\n",
    "    Example Input: 'He go to school.'\n",
    "    Example Output:\n",
    "    {{\n",
    "    \"corrected_sentence\": \"He goes to school.\",\n",
    "    \"score\": 0.98\n",
    "    }}\n",
    "\n",
    "    Example Input: 'The cat sits on the mat.'\n",
    "    Example Output:\n",
    "    {{\n",
    "    \"corrected_sentence\": \"The cat sits on the mat.\",\n",
    "    \"score\": 1.0\n",
    "    }}\n",
    "\n",
    "    Input sentence to correct and score: '{user_message}'\n",
    "    Don't include the json formatting that is \n",
    "    ```json\n",
    "    ```\"\"\"\n",
    "\n",
    "    # Invoke the LLM with the crafted prompt.\n",
    "    try:\n",
    "        raw_response = llm.invoke(prompt).content\n",
    "        # Attempt to parse the LLM's response as a JSON object.\n",
    "        response_data = json.loads(raw_response)\n",
    "        \n",
    "        # Extract the corrected sentence and score from the parsed JSON.\n",
    "        # Provide fallback values in case keys are missing (though the prompt aims to prevent this).\n",
    "        corrected_sentence = response_data.get(\"corrected_sentence\", user_message)\n",
    "        score = float(response_data.get(\"score\", 0.0)) # Ensure score is a float\n",
    "    except json.JSONDecodeError:\n",
    "        # Handle cases where the LLM does not return valid JSON.\n",
    "        print(f\"Warning: Could not parse LLM response as JSON. Raw response: {raw_response}\")\n",
    "        corrected_sentence = f\"Error: Could not process grammar. Original input: '{user_message}'. Please try rephrasing.\"\n",
    "        score = 0.0 # Set score to 0 to ensure re-processing if JSON parsing fails\n",
    "    except Exception as e:\n",
    "        # Handle any other unexpected errors during LLM invocation or data extraction.\n",
    "        print(f\"An unexpected error occurred during LLM invocation: {e}\")\n",
    "        corrected_sentence = f\"Error: An unexpected error occurred. Original input: '{user_message}'. Please try again.\"\n",
    "        score = 0.0\n",
    "\n",
    "    # Format the output string as requested by the user.\n",
    "    formatted_output = f\"Output: {corrected_sentence}\\nScore: {score:.2f}\" # Format score to 2 decimal places\n",
    "\n",
    "    # Return the updated state.\n",
    "    # 'messages' is updated with the AIMessage containing the formatted output.\n",
    "    # 'current_score' is updated with the score extracted from the LLM's response.\n",
    "    print(state)\n",
    "    return {\n",
    "        \"messages\": [AIMessage(content=corrected_sentence)],\n",
    "        \"current_score\": score\n",
    "    }\n"
   ]
  },
  {
   "cell_type": "code",
   "execution_count": 38,
   "id": "8b58ed7d",
   "metadata": {},
   "outputs": [],
   "source": [
    "# Define the conditional function that determines the next step in the graph.\n",
    "def should_continue(state: State) -> Literal[\"chatbot\"] | Literal[END]:\n",
    "    \"\"\"\n",
    "    Checks the current_score in the state.\n",
    "    If the score is 0.95 or higher, the process ends.\n",
    "    Otherwise, it loops back to the 'chatbot' node for another attempt.\n",
    "    \"\"\"\n",
    "    score = state.get(\"current_score\", 0.0) # Get the current score, defaulting to 0.0 if not found\n",
    "    \n",
    "    # Define the threshold for stopping the loop.\n",
    "    score_threshold = 0.95\n",
    "    \n",
    "\n",
    "    if score >= score_threshold:\n",
    "        print(f\"Grammatical score {score:.2f} >= {score_threshold}. Ending process.\")\n",
    "        return END # End the graph execution\n",
    "    else:\n",
    "        print(f\"Grammatical score {score:.2f} < {score_threshold}. Re-processing...\")\n",
    "        return \"chatbot\" # Loop back to the chatbot node"
   ]
  },
  {
   "cell_type": "code",
   "execution_count": 39,
   "id": "c8e4058b",
   "metadata": {},
   "outputs": [
    {
     "data": {
      "text/plain": [
       "<langgraph.graph.state.StateGraph at 0x70b81d1e4b10>"
      ]
     },
     "execution_count": 39,
     "metadata": {},
     "output_type": "execute_result"
    }
   ],
   "source": [
    "# Build the LangGraph.\n",
    "builder = StateGraph(State)\n",
    "\n",
    "# Add the 'chatbot' node to the graph.\n",
    "builder.add_node(\"chatbot\", chatbot)\n",
    "\n",
    "# Set the entry point of the graph to the 'chatbot' node.\n",
    "builder.add_edge(START, \"chatbot\")\n",
    "\n",
    "# Add a conditional edge from the 'chatbot' node.\n",
    "# The 'should_continue' function will be called after 'chatbot' executes.\n",
    "# Its return value ('chatbot' or END) will dictate the next transition.\n",
    "builder.add_conditional_edges(\n",
    "    \"chatbot\",\n",
    "    should_continue,\n",
    "    {\n",
    "        \"chatbot\": \"chatbot\", # If should_continue returns \"chatbot\", transition to \"chatbot\" node\n",
    "        END: END              # If should_continue returns END, terminate the graph\n",
    "    }\n",
    ")"
   ]
  },
  {
   "cell_type": "code",
   "execution_count": 40,
   "id": "8c3b0e3a",
   "metadata": {},
   "outputs": [],
   "source": [
    "# Compile the graph into an executable application.\n",
    "app = builder.compile()\n",
    "\n",
    "# --- Example Usage ---\n",
    "# You can test the chatbot by streaming inputs through the compiled app."
   ]
  },
  {
   "cell_type": "code",
   "execution_count": 41,
   "id": "8208e077",
   "metadata": {},
   "outputs": [
    {
     "data": {
      "image/png": "[encoded data removed]",
      "text/plain": [
       "<IPython.core.display.Image object>"
      ]
     },
     "metadata": {},
     "output_type": "display_data"
    }
   ],
   "source": [
    "from IPython.display import Image, display\n",
    "\n",
    "display(Image(app.get_graph().draw_mermaid_png()))"
   ]
  },
  {
   "cell_type": "code",
   "execution_count": 42,
   "id": "55455df7",
   "metadata": {},
   "outputs": [
    {
     "name": "stdout",
     "output_type": "stream",
     "text": [
      "--- Testing with 'He go a to school..' ---\n",
      "{'messages': [HumanMessage(content='He was is a kitten.', additional_kwargs={}, response_metadata={}, id='4523cd1a-e011-41b8-aa0b-cc5b56b4274a')]}\n",
      "Grammatical score 1.00 >= 0.95. Ending process.\n",
      "{'chatbot': {'messages': [AIMessage(content='He is a kitten.', additional_kwargs={}, response_metadata={}, id='addd2d50-2b72-47b9-82e6-0d4f014216ad')], 'current_score': 1.0}}\n"
     ]
    }
   ],
   "source": [
    "# --- Example Usage ---\n",
    "# You can test the chatbot by streaming inputs through the compiled app.\n",
    "\n",
    "# Example 1: Sentence that might need correction and iterative improvement\n",
    "# Example 1: Sentence that might need correction and iterative improvement\n",
    "print(\"--- Testing with 'He go a to school..' ---\")\n",
    "inputs1 = {\"messages\": [HumanMessage(content=\"He was is a kitten.\")]}\n",
    "for s in app.stream(inputs1):\n",
    "    print(s)\n",
    "\n",
    "\n"
   ]
  },
  {
   "cell_type": "code",
   "execution_count": 49,
   "id": "e80501c5",
   "metadata": {},
   "outputs": [
    {
     "name": "stdout",
     "output_type": "stream",
     "text": [
      "{'messages': [HumanMessage(content='Me walk to store, buy apple. Then I seen cat, it was black. Cat run fast, I chasing. My friend come, we laugh loud. Them was good time.', additional_kwargs={}, response_metadata={}, id='5b9c647b-7d6b-4987-b43b-46df8161ae63')]}\n",
      "Grammatical score 0.15 < 0.95. Re-processing...\n",
      "I walk to store, buy apple. Then I seen cat, it was black. Cat run fast, I chasing. My friend come, we laugh loud. Them was good time. 0.15\n",
      "{'messages': [HumanMessage(content='Me walk to store, buy apple. Then I seen cat, it was black. Cat run fast, I chasing. My friend come, we laugh loud. Them was good time.', additional_kwargs={}, response_metadata={}, id='5b9c647b-7d6b-4987-b43b-46df8161ae63'), AIMessage(content='I walk to store, buy apple. Then I seen cat, it was black. Cat run fast, I chasing. My friend come, we laugh loud. Them was good time.', additional_kwargs={}, response_metadata={}, id='7fa3cb0f-1a54-43d7-8cfb-231c7f868cb1')], 'current_score': 0.15}\n",
      "Grammatical score 0.40 < 0.95. Re-processing...\n",
      "I walked to the store, buy apple. Then I seen cat, it was black. Cat run fast, I chasing. My friend come, we laugh loud. Them was good time. 0.4\n",
      "{'messages': [HumanMessage(content='Me walk to store, buy apple. Then I seen cat, it was black. Cat run fast, I chasing. My friend come, we laugh loud. Them was good time.', additional_kwargs={}, response_metadata={}, id='5b9c647b-7d6b-4987-b43b-46df8161ae63'), AIMessage(content='I walk to store, buy apple. Then I seen cat, it was black. Cat run fast, I chasing. My friend come, we laugh loud. Them was good time.', additional_kwargs={}, response_metadata={}, id='7fa3cb0f-1a54-43d7-8cfb-231c7f868cb1'), AIMessage(content='I walked to the store, buy apple. Then I seen cat, it was black. Cat run fast, I chasing. My friend come, we laugh loud. Them was good time.', additional_kwargs={}, response_metadata={}, id='67840249-8466-4f18-aacb-62bb5135d9d2')], 'current_score': 0.4}\n",
      "Grammatical score 0.40 < 0.95. Re-processing...\n",
      "I walked to the store and bought an apple. Then I seen cat, it was black. Cat run fast, I chasing. My friend come, we laugh loud. Them was good time. 0.4\n",
      "{'messages': [HumanMessage(content='Me walk to store, buy apple. Then I seen cat, it was black. Cat run fast, I chasing. My friend come, we laugh loud. Them was good time.', additional_kwargs={}, response_metadata={}, id='5b9c647b-7d6b-4987-b43b-46df8161ae63'), AIMessage(content='I walk to store, buy apple. Then I seen cat, it was black. Cat run fast, I chasing. My friend come, we laugh loud. Them was good time.', additional_kwargs={}, response_metadata={}, id='7fa3cb0f-1a54-43d7-8cfb-231c7f868cb1'), AIMessage(content='I walked to the store, buy apple. Then I seen cat, it was black. Cat run fast, I chasing. My friend come, we laugh loud. Them was good time.', additional_kwargs={}, response_metadata={}, id='67840249-8466-4f18-aacb-62bb5135d9d2'), AIMessage(content='I walked to the store and bought an apple. Then I seen cat, it was black. Cat run fast, I chasing. My friend come, we laugh loud. Them was good time.', additional_kwargs={}, response_metadata={}, id='ef246422-4a1b-4612-a7c1-b67d2b69c418')], 'current_score': 0.4}\n",
      "Grammatical score 0.60 < 0.95. Re-processing...\n",
      "I walked to the store and bought an apple. Then I saw a cat, it was black. Cat run fast, I chasing. My friend come, we laugh loud. Them was good time. 0.6\n",
      "{'messages': [HumanMessage(content='Me walk to store, buy apple. Then I seen cat, it was black. Cat run fast, I chasing. My friend come, we laugh loud. Them was good time.', additional_kwargs={}, response_metadata={}, id='5b9c647b-7d6b-4987-b43b-46df8161ae63'), AIMessage(content='I walk to store, buy apple. Then I seen cat, it was black. Cat run fast, I chasing. My friend come, we laugh loud. Them was good time.', additional_kwargs={}, response_metadata={}, id='7fa3cb0f-1a54-43d7-8cfb-231c7f868cb1'), AIMessage(content='I walked to the store, buy apple. Then I seen cat, it was black. Cat run fast, I chasing. My friend come, we laugh loud. Them was good time.', additional_kwargs={}, response_metadata={}, id='67840249-8466-4f18-aacb-62bb5135d9d2'), AIMessage(content='I walked to the store and bought an apple. Then I seen cat, it was black. Cat run fast, I chasing. My friend come, we laugh loud. Them was good time.', additional_kwargs={}, response_metadata={}, id='ef246422-4a1b-4612-a7c1-b67d2b69c418'), AIMessage(content='I walked to the store and bought an apple. Then I saw a cat, it was black. Cat run fast, I chasing. My friend come, we laugh loud. Them was good time.', additional_kwargs={}, response_metadata={}, id='9a22f2fa-98f8-45bc-b6f4-97e87c498c76')], 'current_score': 0.6}\n",
      "Grammatical score 0.55 < 0.95. Re-processing...\n",
      "I walked to the store and bought an apple. Then I saw a cat, it was black. Cat ran fast, I chasing. My friend come, we laugh loud. Them was good time. 0.55\n",
      "{'messages': [HumanMessage(content='Me walk to store, buy apple. Then I seen cat, it was black. Cat run fast, I chasing. My friend come, we laugh loud. Them was good time.', additional_kwargs={}, response_metadata={}, id='5b9c647b-7d6b-4987-b43b-46df8161ae63'), AIMessage(content='I walk to store, buy apple. Then I seen cat, it was black. Cat run fast, I chasing. My friend come, we laugh loud. Them was good time.', additional_kwargs={}, response_metadata={}, id='7fa3cb0f-1a54-43d7-8cfb-231c7f868cb1'), AIMessage(content='I walked to the store, buy apple. Then I seen cat, it was black. Cat run fast, I chasing. My friend come, we laugh loud. Them was good time.', additional_kwargs={}, response_metadata={}, id='67840249-8466-4f18-aacb-62bb5135d9d2'), AIMessage(content='I walked to the store and bought an apple. Then I seen cat, it was black. Cat run fast, I chasing. My friend come, we laugh loud. Them was good time.', additional_kwargs={}, response_metadata={}, id='ef246422-4a1b-4612-a7c1-b67d2b69c418'), AIMessage(content='I walked to the store and bought an apple. Then I saw a cat, it was black. Cat run fast, I chasing. My friend come, we laugh loud. Them was good time.', additional_kwargs={}, response_metadata={}, id='9a22f2fa-98f8-45bc-b6f4-97e87c498c76'), AIMessage(content='I walked to the store and bought an apple. Then I saw a cat, it was black. Cat ran fast, I chasing. My friend come, we laugh loud. Them was good time.', additional_kwargs={}, response_metadata={}, id='1c8e8af4-ac9f-40f1-9cae-1ff2cdb017cd')], 'current_score': 0.55}\n",
      "Grammatical score 0.68 < 0.95. Re-processing...\n",
      "I walked to the store and bought an apple. Then I saw a cat, it was black. Cat ran fast, I was chasing. My friend come, we laugh loud. Them was good time. 0.68\n",
      "{'messages': [HumanMessage(content='Me walk to store, buy apple. Then I seen cat, it was black. Cat run fast, I chasing. My friend come, we laugh loud. Them was good time.', additional_kwargs={}, response_metadata={}, id='5b9c647b-7d6b-4987-b43b-46df8161ae63'), AIMessage(content='I walk to store, buy apple. Then I seen cat, it was black. Cat run fast, I chasing. My friend come, we laugh loud. Them was good time.', additional_kwargs={}, response_metadata={}, id='7fa3cb0f-1a54-43d7-8cfb-231c7f868cb1'), AIMessage(content='I walked to the store, buy apple. Then I seen cat, it was black. Cat run fast, I chasing. My friend come, we laugh loud. Them was good time.', additional_kwargs={}, response_metadata={}, id='67840249-8466-4f18-aacb-62bb5135d9d2'), AIMessage(content='I walked to the store and bought an apple. Then I seen cat, it was black. Cat run fast, I chasing. My friend come, we laugh loud. Them was good time.', additional_kwargs={}, response_metadata={}, id='ef246422-4a1b-4612-a7c1-b67d2b69c418'), AIMessage(content='I walked to the store and bought an apple. Then I saw a cat, it was black. Cat run fast, I chasing. My friend come, we laugh loud. Them was good time.', additional_kwargs={}, response_metadata={}, id='9a22f2fa-98f8-45bc-b6f4-97e87c498c76'), AIMessage(content='I walked to the store and bought an apple. Then I saw a cat, it was black. Cat ran fast, I chasing. My friend come, we laugh loud. Them was good time.', additional_kwargs={}, response_metadata={}, id='1c8e8af4-ac9f-40f1-9cae-1ff2cdb017cd'), AIMessage(content='I walked to the store and bought an apple. Then I saw a cat, it was black. Cat ran fast, I was chasing. My friend come, we laugh loud. Them was good time.', additional_kwargs={}, response_metadata={}, id='f116cbc2-a1e9-4685-aeea-7cd4f88bd711')], 'current_score': 0.68}\n",
      "Grammatical score 0.78 < 0.95. Re-processing...\n",
      "I walked to the store and bought an apple. Then I saw a cat. It was black. Cat ran fast, I was chasing. My friend come, we laugh loud. Them was good time. 0.78\n",
      "{'messages': [HumanMessage(content='Me walk to store, buy apple. Then I seen cat, it was black. Cat run fast, I chasing. My friend come, we laugh loud. Them was good time.', additional_kwargs={}, response_metadata={}, id='5b9c647b-7d6b-4987-b43b-46df8161ae63'), AIMessage(content='I walk to store, buy apple. Then I seen cat, it was black. Cat run fast, I chasing. My friend come, we laugh loud. Them was good time.', additional_kwargs={}, response_metadata={}, id='7fa3cb0f-1a54-43d7-8cfb-231c7f868cb1'), AIMessage(content='I walked to the store, buy apple. Then I seen cat, it was black. Cat run fast, I chasing. My friend come, we laugh loud. Them was good time.', additional_kwargs={}, response_metadata={}, id='67840249-8466-4f18-aacb-62bb5135d9d2'), AIMessage(content='I walked to the store and bought an apple. Then I seen cat, it was black. Cat run fast, I chasing. My friend come, we laugh loud. Them was good time.', additional_kwargs={}, response_metadata={}, id='ef246422-4a1b-4612-a7c1-b67d2b69c418'), AIMessage(content='I walked to the store and bought an apple. Then I saw a cat, it was black. Cat run fast, I chasing. My friend come, we laugh loud. Them was good time.', additional_kwargs={}, response_metadata={}, id='9a22f2fa-98f8-45bc-b6f4-97e87c498c76'), AIMessage(content='I walked to the store and bought an apple. Then I saw a cat, it was black. Cat ran fast, I chasing. My friend come, we laugh loud. Them was good time.', additional_kwargs={}, response_metadata={}, id='1c8e8af4-ac9f-40f1-9cae-1ff2cdb017cd'), AIMessage(content='I walked to the store and bought an apple. Then I saw a cat, it was black. Cat ran fast, I was chasing. My friend come, we laugh loud. Them was good time.', additional_kwargs={}, response_metadata={}, id='f116cbc2-a1e9-4685-aeea-7cd4f88bd711'), AIMessage(content='I walked to the store and bought an apple. Then I saw a cat. It was black. Cat ran fast, I was chasing. My friend come, we laugh loud. Them was good time.', additional_kwargs={}, response_metadata={}, id='904c3cca-ec14-4d1b-ba86-71bb98c37e0e')], 'current_score': 0.78}\n",
      "Grammatical score 0.55 < 0.95. Re-processing...\n",
      "I walked to the store and bought an apple. Then I saw a cat. It was black. The cat ran fast, I was chasing. My friend come, we laugh loud. Them was good time. 0.55\n",
      "{'messages': [HumanMessage(content='Me walk to store, buy apple. Then I seen cat, it was black. Cat run fast, I chasing. My friend come, we laugh loud. Them was good time.', additional_kwargs={}, response_metadata={}, id='5b9c647b-7d6b-4987-b43b-46df8161ae63'), AIMessage(content='I walk to store, buy apple. Then I seen cat, it was black. Cat run fast, I chasing. My friend come, we laugh loud. Them was good time.', additional_kwargs={}, response_metadata={}, id='7fa3cb0f-1a54-43d7-8cfb-231c7f868cb1'), AIMessage(content='I walked to the store, buy apple. Then I seen cat, it was black. Cat run fast, I chasing. My friend come, we laugh loud. Them was good time.', additional_kwargs={}, response_metadata={}, id='67840249-8466-4f18-aacb-62bb5135d9d2'), AIMessage(content='I walked to the store and bought an apple. Then I seen cat, it was black. Cat run fast, I chasing. My friend come, we laugh loud. Them was good time.', additional_kwargs={}, response_metadata={}, id='ef246422-4a1b-4612-a7c1-b67d2b69c418'), AIMessage(content='I walked to the store and bought an apple. Then I saw a cat, it was black. Cat run fast, I chasing. My friend come, we laugh loud. Them was good time.', additional_kwargs={}, response_metadata={}, id='9a22f2fa-98f8-45bc-b6f4-97e87c498c76'), AIMessage(content='I walked to the store and bought an apple. Then I saw a cat, it was black. Cat ran fast, I chasing. My friend come, we laugh loud. Them was good time.', additional_kwargs={}, response_metadata={}, id='1c8e8af4-ac9f-40f1-9cae-1ff2cdb017cd'), AIMessage(content='I walked to the store and bought an apple. Then I saw a cat, it was black. Cat ran fast, I was chasing. My friend come, we laugh loud. Them was good time.', additional_kwargs={}, response_metadata={}, id='f116cbc2-a1e9-4685-aeea-7cd4f88bd711'), AIMessage(content='I walked to the store and bought an apple. Then I saw a cat. It was black. Cat ran fast, I was chasing. My friend come, we laugh loud. Them was good time.', additional_kwargs={}, response_metadata={}, id='904c3cca-ec14-4d1b-ba86-71bb98c37e0e'), AIMessage(content='I walked to the store and bought an apple. Then I saw a cat. It was black. The cat ran fast, I was chasing. My friend come, we laugh loud. Them was good time.', additional_kwargs={}, response_metadata={}, id='bce9339f-0a5d-4a92-a7a9-5de243742e4c')], 'current_score': 0.55}\n",
      "Grammatical score 0.75 < 0.95. Re-processing...\n",
      "I walked to the store and bought an apple. Then I saw a cat. It was black. The cat ran fast, I was chasing. My friend came, we laugh loud. Them was good time. 0.75\n",
      "{'messages': [HumanMessage(content='Me walk to store, buy apple. Then I seen cat, it was black. Cat run fast, I chasing. My friend come, we laugh loud. Them was good time.', additional_kwargs={}, response_metadata={}, id='5b9c647b-7d6b-4987-b43b-46df8161ae63'), AIMessage(content='I walk to store, buy apple. Then I seen cat, it was black. Cat run fast, I chasing. My friend come, we laugh loud. Them was good time.', additional_kwargs={}, response_metadata={}, id='7fa3cb0f-1a54-43d7-8cfb-231c7f868cb1'), AIMessage(content='I walked to the store, buy apple. Then I seen cat, it was black. Cat run fast, I chasing. My friend come, we laugh loud. Them was good time.', additional_kwargs={}, response_metadata={}, id='67840249-8466-4f18-aacb-62bb5135d9d2'), AIMessage(content='I walked to the store and bought an apple. Then I seen cat, it was black. Cat run fast, I chasing. My friend come, we laugh loud. Them was good time.', additional_kwargs={}, response_metadata={}, id='ef246422-4a1b-4612-a7c1-b67d2b69c418'), AIMessage(content='I walked to the store and bought an apple. Then I saw a cat, it was black. Cat run fast, I chasing. My friend come, we laugh loud. Them was good time.', additional_kwargs={}, response_metadata={}, id='9a22f2fa-98f8-45bc-b6f4-97e87c498c76'), AIMessage(content='I walked to the store and bought an apple. Then I saw a cat, it was black. Cat ran fast, I chasing. My friend come, we laugh loud. Them was good time.', additional_kwargs={}, response_metadata={}, id='1c8e8af4-ac9f-40f1-9cae-1ff2cdb017cd'), AIMessage(content='I walked to the store and bought an apple. Then I saw a cat, it was black. Cat ran fast, I was chasing. My friend come, we laugh loud. Them was good time.', additional_kwargs={}, response_metadata={}, id='f116cbc2-a1e9-4685-aeea-7cd4f88bd711'), AIMessage(content='I walked to the store and bought an apple. Then I saw a cat. It was black. Cat ran fast, I was chasing. My friend come, we laugh loud. Them was good time.', additional_kwargs={}, response_metadata={}, id='904c3cca-ec14-4d1b-ba86-71bb98c37e0e'), AIMessage(content='I walked to the store and bought an apple. Then I saw a cat. It was black. The cat ran fast, I was chasing. My friend come, we laugh loud. Them was good time.', additional_kwargs={}, response_metadata={}, id='bce9339f-0a5d-4a92-a7a9-5de243742e4c'), AIMessage(content='I walked to the store and bought an apple. Then I saw a cat. It was black. The cat ran fast, I was chasing. My friend came, we laugh loud. Them was good time.', additional_kwargs={}, response_metadata={}, id='2a380b57-78b4-4271-8668-81515478e645')], 'current_score': 0.75}\n",
      "Grammatical score 0.80 < 0.95. Re-processing...\n",
      "I walked to the store and bought an apple. Then I saw a cat. It was black. The cat ran fast, I was chasing it. My friend came, we laugh loud. Them was good time. 0.8\n",
      "{'messages': [HumanMessage(content='Me walk to store, buy apple. Then I seen cat, it was black. Cat run fast, I chasing. My friend come, we laugh loud. Them was good time.', additional_kwargs={}, response_metadata={}, id='5b9c647b-7d6b-4987-b43b-46df8161ae63'), AIMessage(content='I walk to store, buy apple. Then I seen cat, it was black. Cat run fast, I chasing. My friend come, we laugh loud. Them was good time.', additional_kwargs={}, response_metadata={}, id='7fa3cb0f-1a54-43d7-8cfb-231c7f868cb1'), AIMessage(content='I walked to the store, buy apple. Then I seen cat, it was black. Cat run fast, I chasing. My friend come, we laugh loud. Them was good time.', additional_kwargs={}, response_metadata={}, id='67840249-8466-4f18-aacb-62bb5135d9d2'), AIMessage(content='I walked to the store and bought an apple. Then I seen cat, it was black. Cat run fast, I chasing. My friend come, we laugh loud. Them was good time.', additional_kwargs={}, response_metadata={}, id='ef246422-4a1b-4612-a7c1-b67d2b69c418'), AIMessage(content='I walked to the store and bought an apple. Then I saw a cat, it was black. Cat run fast, I chasing. My friend come, we laugh loud. Them was good time.', additional_kwargs={}, response_metadata={}, id='9a22f2fa-98f8-45bc-b6f4-97e87c498c76'), AIMessage(content='I walked to the store and bought an apple. Then I saw a cat, it was black. Cat ran fast, I chasing. My friend come, we laugh loud. Them was good time.', additional_kwargs={}, response_metadata={}, id='1c8e8af4-ac9f-40f1-9cae-1ff2cdb017cd'), AIMessage(content='I walked to the store and bought an apple. Then I saw a cat, it was black. Cat ran fast, I was chasing. My friend come, we laugh loud. Them was good time.', additional_kwargs={}, response_metadata={}, id='f116cbc2-a1e9-4685-aeea-7cd4f88bd711'), AIMessage(content='I walked to the store and bought an apple. Then I saw a cat. It was black. Cat ran fast, I was chasing. My friend come, we laugh loud. Them was good time.', additional_kwargs={}, response_metadata={}, id='904c3cca-ec14-4d1b-ba86-71bb98c37e0e'), AIMessage(content='I walked to the store and bought an apple. Then I saw a cat. It was black. The cat ran fast, I was chasing. My friend come, we laugh loud. Them was good time.', additional_kwargs={}, response_metadata={}, id='bce9339f-0a5d-4a92-a7a9-5de243742e4c'), AIMessage(content='I walked to the store and bought an apple. Then I saw a cat. It was black. The cat ran fast, I was chasing. My friend came, we laugh loud. Them was good time.', additional_kwargs={}, response_metadata={}, id='2a380b57-78b4-4271-8668-81515478e645'), AIMessage(content='I walked to the store and bought an apple. Then I saw a cat. It was black. The cat ran fast, I was chasing it. My friend came, we laugh loud. Them was good time.', additional_kwargs={}, response_metadata={}, id='8f5febe7-c5bd-4449-a4e7-a4ce9d94c39b')], 'current_score': 0.8}\n",
      "Grammatical score 0.85 < 0.95. Re-processing...\n",
      "I walked to the store and bought an apple. Then I saw a cat. It was black. The cat ran fast. I was chasing it. My friend came, we laugh loud. Them was good time. 0.85\n",
      "Warning: Could not parse LLM response as JSON. Raw response: ```json\n",
      "{\n",
      "\"corrected_sentence\": \"I walked to the store and bought an apple. Then I saw a cat. It was black. The cat ran fast. I was chasing it. My friend came, we laughed loud. Them was good time.\",\n",
      "\"score\": 0.75\n",
      "}\n",
      "```\n",
      "{'messages': [HumanMessage(content='Me walk to store, buy apple. Then I seen cat, it was black. Cat run fast, I chasing. My friend come, we laugh loud. Them was good time.', additional_kwargs={}, response_metadata={}, id='5b9c647b-7d6b-4987-b43b-46df8161ae63'), AIMessage(content='I walk to store, buy apple. Then I seen cat, it was black. Cat run fast, I chasing. My friend come, we laugh loud. Them was good time.', additional_kwargs={}, response_metadata={}, id='7fa3cb0f-1a54-43d7-8cfb-231c7f868cb1'), AIMessage(content='I walked to the store, buy apple. Then I seen cat, it was black. Cat run fast, I chasing. My friend come, we laugh loud. Them was good time.', additional_kwargs={}, response_metadata={}, id='67840249-8466-4f18-aacb-62bb5135d9d2'), AIMessage(content='I walked to the store and bought an apple. Then I seen cat, it was black. Cat run fast, I chasing. My friend come, we laugh loud. Them was good time.', additional_kwargs={}, response_metadata={}, id='ef246422-4a1b-4612-a7c1-b67d2b69c418'), AIMessage(content='I walked to the store and bought an apple. Then I saw a cat, it was black. Cat run fast, I chasing. My friend come, we laugh loud. Them was good time.', additional_kwargs={}, response_metadata={}, id='9a22f2fa-98f8-45bc-b6f4-97e87c498c76'), AIMessage(content='I walked to the store and bought an apple. Then I saw a cat, it was black. Cat ran fast, I chasing. My friend come, we laugh loud. Them was good time.', additional_kwargs={}, response_metadata={}, id='1c8e8af4-ac9f-40f1-9cae-1ff2cdb017cd'), AIMessage(content='I walked to the store and bought an apple. Then I saw a cat, it was black. Cat ran fast, I was chasing. My friend come, we laugh loud. Them was good time.', additional_kwargs={}, response_metadata={}, id='f116cbc2-a1e9-4685-aeea-7cd4f88bd711'), AIMessage(content='I walked to the store and bought an apple. Then I saw a cat. It was black. Cat ran fast, I was chasing. My friend come, we laugh loud. Them was good time.', additional_kwargs={}, response_metadata={}, id='904c3cca-ec14-4d1b-ba86-71bb98c37e0e'), AIMessage(content='I walked to the store and bought an apple. Then I saw a cat. It was black. The cat ran fast, I was chasing. My friend come, we laugh loud. Them was good time.', additional_kwargs={}, response_metadata={}, id='bce9339f-0a5d-4a92-a7a9-5de243742e4c'), AIMessage(content='I walked to the store and bought an apple. Then I saw a cat. It was black. The cat ran fast, I was chasing. My friend came, we laugh loud. Them was good time.', additional_kwargs={}, response_metadata={}, id='2a380b57-78b4-4271-8668-81515478e645'), AIMessage(content='I walked to the store and bought an apple. Then I saw a cat. It was black. The cat ran fast, I was chasing it. My friend came, we laugh loud. Them was good time.', additional_kwargs={}, response_metadata={}, id='8f5febe7-c5bd-4449-a4e7-a4ce9d94c39b'), AIMessage(content='I walked to the store and bought an apple. Then I saw a cat. It was black. The cat ran fast. I was chasing it. My friend came, we laugh loud. Them was good time.', additional_kwargs={}, response_metadata={}, id='6d06bf0b-3d93-4d05-911d-303991a8ef15')], 'current_score': 0.85}\n",
      "Grammatical score 0.00 < 0.95. Re-processing...\n",
      "Error: Could not process grammar. Original input: 'I walked to the store and bought an apple. Then I saw a cat. It was black. The cat ran fast. I was chasing it. My friend came, we laugh loud. Them was good time.'. Please try rephrasing. 0.0\n",
      "{'messages': [HumanMessage(content='Me walk to store, buy apple. Then I seen cat, it was black. Cat run fast, I chasing. My friend come, we laugh loud. Them was good time.', additional_kwargs={}, response_metadata={}, id='5b9c647b-7d6b-4987-b43b-46df8161ae63'), AIMessage(content='I walk to store, buy apple. Then I seen cat, it was black. Cat run fast, I chasing. My friend come, we laugh loud. Them was good time.', additional_kwargs={}, response_metadata={}, id='7fa3cb0f-1a54-43d7-8cfb-231c7f868cb1'), AIMessage(content='I walked to the store, buy apple. Then I seen cat, it was black. Cat run fast, I chasing. My friend come, we laugh loud. Them was good time.', additional_kwargs={}, response_metadata={}, id='67840249-8466-4f18-aacb-62bb5135d9d2'), AIMessage(content='I walked to the store and bought an apple. Then I seen cat, it was black. Cat run fast, I chasing. My friend come, we laugh loud. Them was good time.', additional_kwargs={}, response_metadata={}, id='ef246422-4a1b-4612-a7c1-b67d2b69c418'), AIMessage(content='I walked to the store and bought an apple. Then I saw a cat, it was black. Cat run fast, I chasing. My friend come, we laugh loud. Them was good time.', additional_kwargs={}, response_metadata={}, id='9a22f2fa-98f8-45bc-b6f4-97e87c498c76'), AIMessage(content='I walked to the store and bought an apple. Then I saw a cat, it was black. Cat ran fast, I chasing. My friend come, we laugh loud. Them was good time.', additional_kwargs={}, response_metadata={}, id='1c8e8af4-ac9f-40f1-9cae-1ff2cdb017cd'), AIMessage(content='I walked to the store and bought an apple. Then I saw a cat, it was black. Cat ran fast, I was chasing. My friend come, we laugh loud. Them was good time.', additional_kwargs={}, response_metadata={}, id='f116cbc2-a1e9-4685-aeea-7cd4f88bd711'), AIMessage(content='I walked to the store and bought an apple. Then I saw a cat. It was black. Cat ran fast, I was chasing. My friend come, we laugh loud. Them was good time.', additional_kwargs={}, response_metadata={}, id='904c3cca-ec14-4d1b-ba86-71bb98c37e0e'), AIMessage(content='I walked to the store and bought an apple. Then I saw a cat. It was black. The cat ran fast, I was chasing. My friend come, we laugh loud. Them was good time.', additional_kwargs={}, response_metadata={}, id='bce9339f-0a5d-4a92-a7a9-5de243742e4c'), AIMessage(content='I walked to the store and bought an apple. Then I saw a cat. It was black. The cat ran fast, I was chasing. My friend came, we laugh loud. Them was good time.', additional_kwargs={}, response_metadata={}, id='2a380b57-78b4-4271-8668-81515478e645'), AIMessage(content='I walked to the store and bought an apple. Then I saw a cat. It was black. The cat ran fast, I was chasing it. My friend came, we laugh loud. Them was good time.', additional_kwargs={}, response_metadata={}, id='8f5febe7-c5bd-4449-a4e7-a4ce9d94c39b'), AIMessage(content='I walked to the store and bought an apple. Then I saw a cat. It was black. The cat ran fast. I was chasing it. My friend came, we laugh loud. Them was good time.', additional_kwargs={}, response_metadata={}, id='6d06bf0b-3d93-4d05-911d-303991a8ef15'), AIMessage(content=\"Error: Could not process grammar. Original input: 'I walked to the store and bought an apple. Then I saw a cat. It was black. The cat ran fast. I was chasing it. My friend came, we laugh loud. Them was good time.'. Please try rephrasing.\", additional_kwargs={}, response_metadata={}, id='0208c21e-1756-43e9-a8a4-f420021117a4')], 'current_score': 0.0}\n",
      "Grammatical score 0.90 < 0.95. Re-processing...\n",
      "I walked to the store and bought an apple. Then I saw a cat. It was black. The cat ran fast. I was chasing it. My friend came, we laughed loudly. Them was good time. 0.9\n",
      "{'messages': [HumanMessage(content='Me walk to store, buy apple. Then I seen cat, it was black. Cat run fast, I chasing. My friend come, we laugh loud. Them was good time.', additional_kwargs={}, response_metadata={}, id='5b9c647b-7d6b-4987-b43b-46df8161ae63'), AIMessage(content='I walk to store, buy apple. Then I seen cat, it was black. Cat run fast, I chasing. My friend come, we laugh loud. Them was good time.', additional_kwargs={}, response_metadata={}, id='7fa3cb0f-1a54-43d7-8cfb-231c7f868cb1'), AIMessage(content='I walked to the store, buy apple. Then I seen cat, it was black. Cat run fast, I chasing. My friend come, we laugh loud. Them was good time.', additional_kwargs={}, response_metadata={}, id='67840249-8466-4f18-aacb-62bb5135d9d2'), AIMessage(content='I walked to the store and bought an apple. Then I seen cat, it was black. Cat run fast, I chasing. My friend come, we laugh loud. Them was good time.', additional_kwargs={}, response_metadata={}, id='ef246422-4a1b-4612-a7c1-b67d2b69c418'), AIMessage(content='I walked to the store and bought an apple. Then I saw a cat, it was black. Cat run fast, I chasing. My friend come, we laugh loud. Them was good time.', additional_kwargs={}, response_metadata={}, id='9a22f2fa-98f8-45bc-b6f4-97e87c498c76'), AIMessage(content='I walked to the store and bought an apple. Then I saw a cat, it was black. Cat ran fast, I chasing. My friend come, we laugh loud. Them was good time.', additional_kwargs={}, response_metadata={}, id='1c8e8af4-ac9f-40f1-9cae-1ff2cdb017cd'), AIMessage(content='I walked to the store and bought an apple. Then I saw a cat, it was black. Cat ran fast, I was chasing. My friend come, we laugh loud. Them was good time.', additional_kwargs={}, response_metadata={}, id='f116cbc2-a1e9-4685-aeea-7cd4f88bd711'), AIMessage(content='I walked to the store and bought an apple. Then I saw a cat. It was black. Cat ran fast, I was chasing. My friend come, we laugh loud. Them was good time.', additional_kwargs={}, response_metadata={}, id='904c3cca-ec14-4d1b-ba86-71bb98c37e0e'), AIMessage(content='I walked to the store and bought an apple. Then I saw a cat. It was black. The cat ran fast, I was chasing. My friend come, we laugh loud. Them was good time.', additional_kwargs={}, response_metadata={}, id='bce9339f-0a5d-4a92-a7a9-5de243742e4c'), AIMessage(content='I walked to the store and bought an apple. Then I saw a cat. It was black. The cat ran fast, I was chasing. My friend came, we laugh loud. Them was good time.', additional_kwargs={}, response_metadata={}, id='2a380b57-78b4-4271-8668-81515478e645'), AIMessage(content='I walked to the store and bought an apple. Then I saw a cat. It was black. The cat ran fast, I was chasing it. My friend came, we laugh loud. Them was good time.', additional_kwargs={}, response_metadata={}, id='8f5febe7-c5bd-4449-a4e7-a4ce9d94c39b'), AIMessage(content='I walked to the store and bought an apple. Then I saw a cat. It was black. The cat ran fast. I was chasing it. My friend came, we laugh loud. Them was good time.', additional_kwargs={}, response_metadata={}, id='6d06bf0b-3d93-4d05-911d-303991a8ef15'), AIMessage(content=\"Error: Could not process grammar. Original input: 'I walked to the store and bought an apple. Then I saw a cat. It was black. The cat ran fast. I was chasing it. My friend came, we laugh loud. Them was good time.'. Please try rephrasing.\", additional_kwargs={}, response_metadata={}, id='0208c21e-1756-43e9-a8a4-f420021117a4'), AIMessage(content='I walked to the store and bought an apple. Then I saw a cat. It was black. The cat ran fast. I was chasing it. My friend came, we laughed loudly. Them was good time.', additional_kwargs={}, response_metadata={}, id='670ef396-b7a1-4d75-b731-2ce7e854d401')], 'current_score': 0.9}\n",
      "Grammatical score 0.98 >= 0.95. Ending process.\n",
      "I walked to the store and bought an apple. Then I saw a cat. It was black. The cat ran fast. I was chasing it. My friend came, we laughed loudly. It was good time. 0.98\n"
     ]
    }
   ],
   "source": [
    "inputs1 = {\"messages\": [HumanMessage(content=\"Me walk to store, buy apple. Then I seen cat, it was black. Cat run fast, I chasing. My friend come, we laugh loud. Them was good time.\")]}\n",
    "for s in app.stream(inputs1):\n",
    "    print(s['chatbot']['messages'][0].content, s['chatbot']['current_score'])\n"
   ]
  },
  {
   "cell_type": "code",
   "execution_count": null,
   "id": "b2f9e681",
   "metadata": {},
   "outputs": [],
   "source": []
  }
 ],
 "metadata": {
  "kernelspec": {
   "display_name": "test",
   "language": "python",
   "name": "python3"
  },
  "language_info": {
   "codemirror_mode": {
    "name": "ipython",
    "version": 3
   },
   "file_extension": ".py",
   "mimetype": "text/x-python",
   "name": "python",
   "nbconvert_exporter": "python",
   "pygments_lexer": "ipython3",
   "version": "3.11.11"
  }
 },
 "nbformat": 4,
 "nbformat_minor": 5
}
